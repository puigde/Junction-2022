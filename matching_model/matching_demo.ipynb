{
 "cells": [
  {
   "cell_type": "markdown",
   "metadata": {},
   "source": [
    "## Metric Learning over the Matching Model\n",
    "### Use Case Example"
   ]
  },
  {
   "cell_type": "code",
   "execution_count": 3,
   "metadata": {},
   "outputs": [],
   "source": [
    "# IMPORTS\n",
    "from matching_model import MatchingLoss, retrain\n",
    "from matching_data import get_complete_feedback\n",
    "from transformers import LongformerTokenizer, LongformerModel\n",
    "from torch.optim import AdamW\n",
    "from torch import device"
   ]
  },
  {
   "cell_type": "code",
   "execution_count": 4,
   "metadata": {},
   "outputs": [],
   "source": [
    "# DEVICE settings\n",
    "device = device('cuda' if torch.cuda.is_available() else 'cpu')"
   ]
  },
  {
   "cell_type": "markdown",
   "metadata": {},
   "source": [
    "We start by initializing the base pretrained large language model for embedding generation along with its parameters."
   ]
  },
  {
   "cell_type": "code",
   "execution_count": null,
   "metadata": {},
   "outputs": [],
   "source": [
    "model = LongformerModel.from_pretrained(\"allenai/longformer-base-4096\")\n",
    "model.to(device)"
   ]
  },
  {
   "cell_type": "markdown",
   "metadata": {},
   "source": [
    "Next, we define the parameters for the model: \n",
    " * Text tokenizer\n",
    " * Adam Optimizer\n",
    " * Our Matching Loss function"
   ]
  },
  {
   "cell_type": "code",
   "execution_count": 6,
   "metadata": {},
   "outputs": [],
   "source": [
    "tokenizer = LongformerTokenizer.from_pretrained(\"allenai/longformer-base-4096\")\n",
    "matching_loss = MatchingLoss(margin=1, alpha=0.7, beta=0.3)\n",
    "optimizer = AdamW(model.parameters())"
   ]
  },
  {
   "cell_type": "markdown",
   "metadata": {},
   "source": [
    "Last we load some feedback. For each user's loading we can tune our model."
   ]
  },
  {
   "cell_type": "code",
   "execution_count": 7,
   "metadata": {},
   "outputs": [
    {
     "name": "stderr",
     "output_type": "stream",
     "text": [
      "100%|██████████| 3/3 [03:50<00:00, 76.78s/it]\n",
      "100%|██████████| 3/3 [03:40<00:00, 73.58s/it]\n",
      "100%|██████████| 3/3 [03:33<00:00, 71.12s/it]\n"
     ]
    }
   ],
   "source": [
    "feedback = get_complete_feedback()\n",
    "for user_feedback in feedback:\n",
    "  retrain(user_feedback[0], user_feedback[1], user_feedback[2], tokenizer, optimizer, model, matching_loss, device)"
   ]
  }
 ],
 "metadata": {
  "kernelspec": {
   "display_name": "Python 3.10.5 ('venv': venv)",
   "language": "python",
   "name": "python3"
  },
  "language_info": {
   "codemirror_mode": {
    "name": "ipython",
    "version": 3
   },
   "file_extension": ".py",
   "mimetype": "text/x-python",
   "name": "python",
   "nbconvert_exporter": "python",
   "pygments_lexer": "ipython3",
   "version": "3.10.5"
  },
  "orig_nbformat": 4,
  "vscode": {
   "interpreter": {
    "hash": "2a9520028d523d5664695fb1c099a9dd9e229045480f9d628de7a14853adefd3"
   }
  }
 },
 "nbformat": 4,
 "nbformat_minor": 2
}
